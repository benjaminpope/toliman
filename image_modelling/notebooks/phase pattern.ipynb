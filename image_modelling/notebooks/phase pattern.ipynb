{
 "cells": [
  {
   "cell_type": "markdown",
   "metadata": {},
   "source": [
    "# Combined inner and outer rings"
   ]
  },
  {
   "cell_type": "code",
   "execution_count": 1,
   "metadata": {},
   "outputs": [],
   "source": [
    "import numpy as np\n",
    "from math import sin, log10, cos, atan2, hypot\n",
    "\n",
    "# Region values\n",
    "black = -1\n",
    "white = 1\n",
    "grey = 0\n",
    "\n",
    "# Physical dimensions\n",
    "r_max = 300.\n",
    "r_min = 50.\n",
    "r_split = 246. # interface between main sprial and outer rim\n",
    "\n",
    "npix=512 # pixels spanning -r_max to + r_max\n",
    "\n",
    "# Spiral parameters\n",
    "alpha1 = 20.186\n",
    "m1 = 5\n",
    "eta1 = -1.308\n",
    "m2 = -5\n",
    "alpha2 = 16.149\n",
    "eta2 = -0.733\n",
    "m3 = 10\n",
    "alpha3 = 4.0372\n",
    "eta3 = -0.575\n",
    "\n",
    "a = np.zeros(shape=(npix,npix))\n",
    "for i in range(npix):\n",
    "    for j in range(npix):\n",
    "        x = i - npix/2.\n",
    "        y = j - npix/2.\n",
    "        phi = atan2(y, x)\n",
    "        r = r_max*hypot(x,y)*2./npix        \n",
    "        if (r<=r_max and r>r_min):\n",
    "            c1 = cos(alpha1*log10(r)+m1*phi+eta1)\n",
    "            c2 = cos(alpha2*log10(r)+m2*phi+eta2)\n",
    "            c3 = sin(alpha3*log10(r)+m3*phi+eta3)\n",
    "            if (r>r_split): # Outer rim\n",
    "                a[i][j]=white if (c3<0 or c1*c2*c3>0) else black\n",
    "            else: # Main spiral\n",
    "                a[i][j]=white if (c1*c2*c3>0) else black\n",
    "        else: # Colour to distinguish from above values\n",
    "            a[i][j] = grey\n"
   ]
  },
  {
   "cell_type": "code",
   "execution_count": 2,
   "metadata": {},
   "outputs": [
    {
     "data": {
      "image/png": "[encoded data removed]",
      "text/plain": [
       "<matplotlib.figure.Figure at 0x7f5e80334cf8>"
      ]
     },
     "metadata": {},
     "output_type": "display_data"
    }
   ],
   "source": [
    "import matplotlib.pyplot as plt\n",
    "plt.imshow(a,cmap='binary')\n",
    "plt.show()"
   ]
  },
  {
   "cell_type": "code",
   "execution_count": null,
   "metadata": {},
   "outputs": [],
   "source": []
  }
 ],
 "metadata": {
  "kernelspec": {
   "display_name": "Python 3",
   "language": "python",
   "name": "python3"
  },
  "language_info": {
   "codemirror_mode": {
    "name": "ipython",
    "version": 3
   },
   "file_extension": ".py",
   "mimetype": "text/x-python",
   "name": "python",
   "nbconvert_exporter": "python",
   "pygments_lexer": "ipython3",
   "version": "3.5.4"
  }
 },
 "nbformat": 4,
 "nbformat_minor": 2
}
