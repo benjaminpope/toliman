{
 "cells": [
  {
   "cell_type": "code",
   "execution_count": 1,
   "metadata": {
    "collapsed": true
   },
   "outputs": [],
   "source": [
    "# Add local scripts to module search path\n",
    "import sys\n",
    "import os\n",
    "sys.path.append(os.path.realpath('../toliman-proper'))"
   ]
  },
  {
   "cell_type": "markdown",
   "metadata": {},
   "source": [
    "# FFT Comparison for Toliman modelling\n",
    "\n",
    "PROPER supports Fast Fourier Transforms (FFTs) using Numpy's internal algorithms, or using external FFTW or Intel MKL libraries. This notebook compares the speed of executing a propagation of the Toliman system for each case.\n",
    "\n",
    "This test uses the `form_detector_image` function used to wrap up the operations in PROPER to form a single detector image. Because of a race condition bug in the current implementation of PROPER for FFTW the test only considers the case of a single wavelength, whereas in practice one would expect to model for a spread of wavelengths. "
   ]
  },
  {
   "cell_type": "code",
   "execution_count": 2,
   "metadata": {
    "collapsed": false
   },
   "outputs": [],
   "source": [
    "import timeit\n",
    "\n",
    "# These parameters affect the sampling, and therefore the amount of FFT computation \n",
    "gridsize = 2048 # sampling of wavefront\n",
    "beam_ratio = 0.4\n",
    "\n",
    "# How many iterations to perform\n",
    "nits = 10\n",
    "\n",
    "results = {}"
   ]
  },
  {
   "cell_type": "code",
   "execution_count": 3,
   "metadata": {
    "collapsed": false
   },
   "outputs": [
    {
     "name": "stderr",
     "output_type": "stream",
     "text": [
      "/suphys/bjef8061/.local/lib/python3.5/site-packages/pyfits-3.5-py3.5-linux-x86_64.egg/pyfits/__init__.py:22: PyFITSDeprecationWarning: PyFITS is deprecated, please use astropy.io.fits\n",
      "  PyFITSDeprecationWarning)  # noqa\n"
     ]
    }
   ],
   "source": [
    "# Setup for image\n",
    "from proper_tools import form_detector_image\n",
    "from spirals import binarized_ringed\n",
    "\n",
    "prescription = 'prescription_rc_quad'\n",
    "# The actual values probably don't matter all that much for the purposes of this comparison.\n",
    "toliman_settings = {\n",
    "                    'diam': 0.001 * 2. * 150, \n",
    "                    'm1_fl': 571.7300 / 1000.,\n",
    "                    'm1_m2_sep': 549.240/1000.,\n",
    "                    'm2_fl': -23.3800/1000.,\n",
    "                    'bfl': 590.000 / 1000., \n",
    "                    'm2_rad': 5.9 / 1000., \n",
    "                    'm2_strut_width': 0.01,\n",
    "                    'm2_supports': 5,\n",
    "                    'beam_ratio': beam_ratio,\n",
    "                    'tilt_x': 0.00,\n",
    "                    'tilt_y': 0.00,\n",
    "                    'phase_func': binarized_ringed\n",
    "                    }\n",
    "\n",
    "\n",
    "detector_pitch = 11.0e-6 # m/pixel on detector\n",
    "npixels = 512 # Size of detector, in pixels\n",
    "\n",
    "# First source, on axis\n",
    "source_a = {\n",
    "            'wavelengths': [0.6],\n",
    "            'weights': [1.],\n",
    "            'settings': toliman_settings\n",
    "            }\n",
    "\n",
    "# Second source, off-axis\n",
    "tilted = toliman_settings.copy()\n",
    "tilted['tilt_x'] = 3.00\n",
    "tilted['tilt_y'] = 1.00\n",
    "\n",
    "source_b = {\n",
    "            'settings': tilted,\n",
    "            'wavelengths': [0.6],\n",
    "            'weights': [1.]\n",
    "            }\n",
    "\n",
    "def timed_op():\n",
    "    return form_detector_image(prescription, [source_a, source_b], gridsize, detector_pitch, npixels)\n",
    "\n",
    "op_txt = 'timed_op()'"
   ]
  },
  {
   "cell_type": "markdown",
   "metadata": {},
   "source": [
    "## Default Numpy FFT"
   ]
  },
  {
   "cell_type": "code",
   "execution_count": 4,
   "metadata": {
    "collapsed": true
   },
   "outputs": [],
   "source": [
    "import proper\n",
    "proper.prop_use_fftw(DISABLE=True)"
   ]
  },
  {
   "cell_type": "code",
   "execution_count": 7,
   "metadata": {
    "collapsed": false
   },
   "outputs": [
    {
     "name": "stdout",
     "output_type": "stream",
     "text": [
      "414.4576419549994\n"
     ]
    }
   ],
   "source": [
    "result = timeit.timeit(op_txt, number=nits, globals=globals())\n",
    "print(result)\n",
    "results['numpy'] = result"
   ]
  },
  {
   "cell_type": "markdown",
   "metadata": {},
   "source": [
    "## FFTW library\n",
    "\n"
   ]
  },
  {
   "cell_type": "code",
   "execution_count": 10,
   "metadata": {
    "collapsed": false
   },
   "outputs": [
    {
     "data": {
      "text/plain": [
       "'/suphys/bjef8061/.local/lib/python3.5/site-packages/PyPROPER3-1.0.0-py3.5-linux-x86_64.egg/proper/.2048pix_wisdomfile'"
      ]
     },
     "execution_count": 10,
     "metadata": {},
     "output_type": "execute_result"
    }
   ],
   "source": [
    "import proper\n",
    "proper.prop_use_fftw()\n",
    "proper.prop_fftw_wisdom(gridsize)"
   ]
  },
  {
   "cell_type": "code",
   "execution_count": 11,
   "metadata": {
    "collapsed": false
   },
   "outputs": [
    {
     "name": "stdout",
     "output_type": "stream",
     "text": [
      "402.11712781200185\n"
     ]
    }
   ],
   "source": [
    "result = timeit.timeit(op_txt, number=nits, globals=globals())\n",
    "print(result)\n",
    "results['fftw'] = result"
   ]
  },
  {
   "cell_type": "markdown",
   "metadata": {
    "collapsed": true
   },
   "source": [
    "## Intel MKL\n",
    "\n",
    "Intel Math Kernel Library"
   ]
  },
  {
   "cell_type": "code",
   "execution_count": 4,
   "metadata": {
    "collapsed": false
   },
   "outputs": [],
   "source": [
    "import proper\n",
    "proper.prop_use_ffti(MKL_DIR='/usr/physics/ic16/mkl/lib/intel64/')"
   ]
  },
  {
   "cell_type": "code",
   "execution_count": 5,
   "metadata": {
    "collapsed": false
   },
   "outputs": [
    {
     "name": "stdout",
     "output_type": "stream",
     "text": [
      "352.7674847957678\n"
     ]
    }
   ],
   "source": [
    "result = timeit.timeit(op_txt, number=nits, globals=globals())\n",
    "print(result)\n",
    "results['intel'] = result"
   ]
  },
  {
   "cell_type": "markdown",
   "metadata": {
    "collapsed": true
   },
   "source": [
    "## Results"
   ]
  },
  {
   "cell_type": "code",
   "execution_count": 7,
   "metadata": {
    "collapsed": false
   },
   "outputs": [
    {
     "name": "stdout",
     "output_type": "stream",
     "text": [
      "{'numpy': 414.4576419549994, 'fftw': 402.11712781200185, 'intel': 352.7674847957678}\n"
     ]
    }
   ],
   "source": [
    "print(results)"
   ]
  },
  {
   "cell_type": "code",
   "execution_count": null,
   "metadata": {
    "collapsed": true
   },
   "outputs": [],
   "source": []
  }
 ],
 "metadata": {
  "anaconda-cloud": {},
  "kernelspec": {
   "display_name": "Python [default]",
   "language": "python",
   "name": "python3"
  },
  "language_info": {
   "codemirror_mode": {
    "name": "ipython",
    "version": 3
   },
   "file_extension": ".py",
   "mimetype": "text/x-python",
   "name": "python",
   "nbconvert_exporter": "python",
   "pygments_lexer": "ipython3",
   "version": "3.5.2"
  }
 },
 "nbformat": 4,
 "nbformat_minor": 2
}
